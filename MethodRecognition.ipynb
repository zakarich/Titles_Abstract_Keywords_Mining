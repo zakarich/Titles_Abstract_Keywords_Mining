{
 "cells": [
  {
   "cell_type": "code",
   "execution_count": null,
   "metadata": {},
   "outputs": [],
   "source": [
    "import os\n",
    "import shutil\n",
    "\n",
    "import re\n",
    "import time\n",
    "import pandas as pd\n",
    "\n",
    "\n",
    "csv_fileIEEE = pd.read_csv('Data-25May/MT-IEEE-vf.csv',header=0, engine='python', warn_bad_lines=True, error_bad_lines=False)\n",
    "csv_fileSCOPUS = pd.read_csv('Data-25May/MT-SCOPUS-vf.csv',header=0, engine='python', warn_bad_lines=True, error_bad_lines=False)\n",
    "csv_fileSPRINGER = pd.read_csv('Data-25May/MT-SPRINGER-vf.csv',header=0, engine='python', warn_bad_lines=True, error_bad_lines=False)\n",
    "\n",
    "csv_fileIEEE"
   ]
  },
  {
   "cell_type": "code",
   "execution_count": null,
   "metadata": {},
   "outputs": [],
   "source": [
    "#Replace Abbreviation\n",
    "def replace_Abbreviation(text):\n",
    "    text.replace('smt', 'statistical')\n",
    "    text.replace('nmt', 'neural')\n",
    "    text.replace('rbmt','rule based')\n",
    "    text.replace('hmt','hybrid')\n",
    "    text.replace('dmt','direct')\n",
    "    text.replace('tbmt','transfer based')\n",
    "    text.replace('cbmt','corpus based')\n",
    "    text.replace('ebmt','example based')\n",
    "    return text\n",
    "\n",
    "#Remove All words that could mess our classification\n",
    "csv_fileIEEE['Document Title'] = csv_fileIEEE['Document Title'].apply(lambda words: ' '.join(word.lower() for word in words.split() if word not in removed))\n",
    "csv_fileIEEE['Document Title'] = csv_fileIEEE['Document Title'].apply(replace_Abbreviation)\n",
    "Methods = ['neural','statistical','hybrid','rule based','direct','transfer based','interlingual','corpus based','example based','']\n",
    "#Lang = [word.lower() for word in Languages]\n",
    "# Recognition for IEEE\n",
    "for i in range(len(csv_fileIEEE[\"Document Title\"])): \n",
    "    #res = re.sub(r'[^\\w\\s]', ' ', df.astype(str)[\"Document Title\"][i]+df.astype(str)[\"Abstract\"][i]+df.astype(str)[\"Author Keywords\"][i])\n",
    "    res = re.sub(r'[^\\w\\s]', ' ', str(csv_fileIEEE[\"Document Title\"][i]))\n",
    "    Title = res.lower().split() \n",
    "    Method_Found.append(list(set(Title) & set(Methods)))\n",
    "csv_fileIEEE[\"Method\"] = Method_Found \n",
    "print(\"The number of methods that the program can recognize :\"+str(len(Methods)))\n",
    "csv_fileIEEE"
   ]
  },
  {
   "cell_type": "code",
   "execution_count": null,
   "metadata": {},
   "outputs": [],
   "source": []
  }
 ],
 "metadata": {
  "kernelspec": {
   "display_name": "Python 3 (ipykernel)",
   "language": "python",
   "name": "python3"
  },
  "language_info": {
   "codemirror_mode": {
    "name": "ipython",
    "version": 3
   },
   "file_extension": ".py",
   "mimetype": "text/x-python",
   "name": "python",
   "nbconvert_exporter": "python",
   "pygments_lexer": "ipython3",
   "version": "3.8.5"
  }
 },
 "nbformat": 4,
 "nbformat_minor": 4
}
