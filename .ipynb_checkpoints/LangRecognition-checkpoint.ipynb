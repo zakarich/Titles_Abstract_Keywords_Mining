{
 "cells": [
  {
   "cell_type": "code",
   "execution_count": 1,
   "metadata": {},
   "outputs": [
    {
     "data": {
      "text/html": [
       "<div>\n",
       "<style scoped>\n",
       "    .dataframe tbody tr th:only-of-type {\n",
       "        vertical-align: middle;\n",
       "    }\n",
       "\n",
       "    .dataframe tbody tr th {\n",
       "        vertical-align: top;\n",
       "    }\n",
       "\n",
       "    .dataframe thead th {\n",
       "        text-align: right;\n",
       "    }\n",
       "</style>\n",
       "<table border=\"1\" class=\"dataframe\">\n",
       "  <thead>\n",
       "    <tr style=\"text-align: right;\">\n",
       "      <th></th>\n",
       "      <th>Document Title</th>\n",
       "      <th>Abstract</th>\n",
       "      <th>DOI</th>\n",
       "      <th>Publication Year</th>\n",
       "      <th>Author Keywords</th>\n",
       "    </tr>\n",
       "  </thead>\n",
       "  <tbody>\n",
       "    <tr>\n",
       "      <th>0</th>\n",
       "      <td>An Approach to N-Gram Language Model Evaluatio...</td>\n",
       "      <td>N-gram Language model plays an important role ...</td>\n",
       "      <td>10.1109/IALP.2012.70</td>\n",
       "      <td>2012</td>\n",
       "      <td>Language model evaluation;Statistical Machine ...</td>\n",
       "    </tr>\n",
       "    <tr>\n",
       "      <th>1</th>\n",
       "      <td>Controlling byte pair encoding for neural mach...</td>\n",
       "      <td>Byte pair encoding(BPE) is an approach that se...</td>\n",
       "      <td>10.1109/IALP.2017.8300571</td>\n",
       "      <td>2017</td>\n",
       "      <td>Recurrent Neural Networks;Neural Machine Trans...</td>\n",
       "    </tr>\n",
       "    <tr>\n",
       "      <th>2</th>\n",
       "      <td>Modernization of old turkish texts</td>\n",
       "      <td>Changes in a language over time causes the tex...</td>\n",
       "      <td>10.1109/SIU.2018.8404308</td>\n",
       "      <td>2018</td>\n",
       "      <td>Text Simplification;Machine Learning;Statistic...</td>\n",
       "    </tr>\n",
       "    <tr>\n",
       "      <th>3</th>\n",
       "      <td>iBLEU: Interactively Debugging and Scoring Sta...</td>\n",
       "      <td>Machine Translation (MT) systems are evaluated...</td>\n",
       "      <td>10.1109/ICSC.2011.36</td>\n",
       "      <td>2011</td>\n",
       "      <td>machine translation;information visualization</td>\n",
       "    </tr>\n",
       "    <tr>\n",
       "      <th>4</th>\n",
       "      <td>Research on Unknown Words Processing of Mongol...</td>\n",
       "      <td>In this paper, the unknown words processing me...</td>\n",
       "      <td>10.1109/CCOMS.2019.8821725</td>\n",
       "      <td>2019</td>\n",
       "      <td>Mongolian-Chinese;neural network machine trans...</td>\n",
       "    </tr>\n",
       "    <tr>\n",
       "      <th>...</th>\n",
       "      <td>...</td>\n",
       "      <td>...</td>\n",
       "      <td>...</td>\n",
       "      <td>...</td>\n",
       "      <td>...</td>\n",
       "    </tr>\n",
       "    <tr>\n",
       "      <th>565</th>\n",
       "      <td>OCR Error Correction: State-of-the-Art vs an N...</td>\n",
       "      <td>Although the performance of the state-of-the-a...</td>\n",
       "      <td>NaN</td>\n",
       "      <td>2018</td>\n",
       "      <td>Optical character recognition software;Neural ...</td>\n",
       "    </tr>\n",
       "    <tr>\n",
       "      <th>566</th>\n",
       "      <td>Evaluating English to Arabic machine translators</td>\n",
       "      <td>Location and language have now less impact as ...</td>\n",
       "      <td>NaN</td>\n",
       "      <td>2013</td>\n",
       "      <td>Google;Internet;Measurement;Computational ling...</td>\n",
       "    </tr>\n",
       "    <tr>\n",
       "      <th>567</th>\n",
       "      <td>The feasibility analysis of re-ranking for N-b...</td>\n",
       "      <td>In this paper, we present the results of re-ra...</td>\n",
       "      <td>NaN</td>\n",
       "      <td>2013</td>\n",
       "      <td>Measurement;Algorithm design and analysis;Comp...</td>\n",
       "    </tr>\n",
       "    <tr>\n",
       "      <th>568</th>\n",
       "      <td>An evaluation methodology for English to Sinha...</td>\n",
       "      <td>This paper presents evaluation methodology for...</td>\n",
       "      <td>NaN</td>\n",
       "      <td>2010</td>\n",
       "      <td>Dictionaries;Humans;Error analysis;Generators;...</td>\n",
       "    </tr>\n",
       "    <tr>\n",
       "      <th>569</th>\n",
       "      <td>Numerical Assessment of Machine Translation Qu...</td>\n",
       "      <td>The paper considers modern methods of near dup...</td>\n",
       "      <td>NaN</td>\n",
       "      <td>2017</td>\n",
       "      <td>NaN</td>\n",
       "    </tr>\n",
       "  </tbody>\n",
       "</table>\n",
       "<p>570 rows × 5 columns</p>\n",
       "</div>"
      ],
      "text/plain": [
       "                                        Document Title  \\\n",
       "0    An Approach to N-Gram Language Model Evaluatio...   \n",
       "1    Controlling byte pair encoding for neural mach...   \n",
       "2                   Modernization of old turkish texts   \n",
       "3    iBLEU: Interactively Debugging and Scoring Sta...   \n",
       "4    Research on Unknown Words Processing of Mongol...   \n",
       "..                                                 ...   \n",
       "565  OCR Error Correction: State-of-the-Art vs an N...   \n",
       "566   Evaluating English to Arabic machine translators   \n",
       "567  The feasibility analysis of re-ranking for N-b...   \n",
       "568  An evaluation methodology for English to Sinha...   \n",
       "569  Numerical Assessment of Machine Translation Qu...   \n",
       "\n",
       "                                              Abstract  \\\n",
       "0    N-gram Language model plays an important role ...   \n",
       "1    Byte pair encoding(BPE) is an approach that se...   \n",
       "2    Changes in a language over time causes the tex...   \n",
       "3    Machine Translation (MT) systems are evaluated...   \n",
       "4    In this paper, the unknown words processing me...   \n",
       "..                                                 ...   \n",
       "565  Although the performance of the state-of-the-a...   \n",
       "566  Location and language have now less impact as ...   \n",
       "567  In this paper, we present the results of re-ra...   \n",
       "568  This paper presents evaluation methodology for...   \n",
       "569  The paper considers modern methods of near dup...   \n",
       "\n",
       "                            DOI  Publication Year  \\\n",
       "0          10.1109/IALP.2012.70              2012   \n",
       "1     10.1109/IALP.2017.8300571              2017   \n",
       "2      10.1109/SIU.2018.8404308              2018   \n",
       "3          10.1109/ICSC.2011.36              2011   \n",
       "4    10.1109/CCOMS.2019.8821725              2019   \n",
       "..                          ...               ...   \n",
       "565                         NaN              2018   \n",
       "566                         NaN              2013   \n",
       "567                         NaN              2013   \n",
       "568                         NaN              2010   \n",
       "569                         NaN              2017   \n",
       "\n",
       "                                       Author Keywords  \n",
       "0    Language model evaluation;Statistical Machine ...  \n",
       "1    Recurrent Neural Networks;Neural Machine Trans...  \n",
       "2    Text Simplification;Machine Learning;Statistic...  \n",
       "3        machine translation;information visualization  \n",
       "4    Mongolian-Chinese;neural network machine trans...  \n",
       "..                                                 ...  \n",
       "565  Optical character recognition software;Neural ...  \n",
       "566  Google;Internet;Measurement;Computational ling...  \n",
       "567  Measurement;Algorithm design and analysis;Comp...  \n",
       "568  Dictionaries;Humans;Error analysis;Generators;...  \n",
       "569                                                NaN  \n",
       "\n",
       "[570 rows x 5 columns]"
      ]
     },
     "execution_count": 1,
     "metadata": {},
     "output_type": "execute_result"
    }
   ],
   "source": [
    "import os\n",
    "import shutil\n",
    "\n",
    "import re\n",
    "import time\n",
    "import pandas as pd\n",
    "\n",
    "csv_file = pd.read_csv('Data/ALL-export2021.01.24.csv',header=0)\n",
    "df = pd.DataFrame(csv_file[[\"Document Title\",\"Abstract\",\"DOI\",\"Publication Year\",\"Author Keywords\"]])\n",
    "df"
   ]
  },
  {
   "cell_type": "code",
   "execution_count": 9,
   "metadata": {},
   "outputs": [
    {
     "data": {
      "text/plain": [
       "nan"
      ]
     },
     "execution_count": 9,
     "metadata": {},
     "output_type": "execute_result"
    }
   ],
   "source": [
    "df[\"Author Keywords\"][569]"
   ]
  },
  {
   "cell_type": "code",
   "execution_count": 14,
   "metadata": {},
   "outputs": [
    {
     "data": {
      "text/plain": [
       "314"
      ]
     },
     "execution_count": 14,
     "metadata": {},
     "output_type": "execute_result"
    }
   ],
   "source": [
    "Languages_Translation = []\n",
    "Languages = [\"mandarin\",\"chinese\",\"spanish\",\"Jalaa\",\"Maori\",\"Ryukyuan\",\"mam\",\"Quiche\",\"Kekchi\",\"Cakchiquel\",\"Nahua\",\"Carib\",\"Amerindian\",\"Garifuna\",\"Mesrop\",\"Khenkha\",\"Tshanglakha\",\"Lhotsamkha\",\"Nepalese\",\"Waray\",\"Pampango\",\"Pangasinense\",\"Bicol\",\"Aramaic\",\"Circassian\",\"Tajik\",\"Baluchi\",\"Khalkha\",\"mongol\",\"Dhivehi\",\"Maldivian\",\"Altaic\",\"Kyrgyz\",\"Bahasa\",\"Hangungmal\",\"Qazaq\",\"Turcoman\",\"Assyrian\",\"Yiddish\",\"Judeo\",\"Ladino\",\"Tuvaluan\",\"Kejia\",\"Tibetan\",\"Tibet\",\"Mongolian\",\"Bhutanese\",\"Darussalam\",\"Dzongkha\",\"Farsi\",\"Turkic\",\"Azeri\",\"Bislama\",\"Bichelama\",\"Ulithian\",\"Pitcairnese\",\"Pisin\",\"Motu\",\"Sonsoralese\",\"Angaur\",\"Carolinian\",\"Niuean\",\"Tongan\",\"Polynesian\",\"Melanesian\",\"Kapingamarangi\",\"Tahitian\",\"Nukuoro\",\"Woleaian\",\"Trukese\",\"Pohnpeian\",\"Kosrean\",\"Yapese\",\"Kiribati\",\"Chamorro\",\"Ibibio\",\"Fijian\",\"Welsh\",\"gaelic\",\"Samoan \",\"Nordic\",\"Monegasque\",\"Gagauz\",\"Lahnda\",\"Llanito \",\"Sami\",\"Castilian\",\"Zande\",\"Chadic\",\"Sena\",\"Volta\",\"twi\",\"Wolof\",\"Umbundu\",\"Tsoa\",\"Tshivenda\",\"Tshiluba\",\"Tshwa\",\"kua\",\"Tonga\",\"Swazi\",\"Seychellois\",\"Mauritian\",\"Noon\",\"Nambya\",\"Ndau\",\"Kimbundu\",\"Sotho\",\"Luganda\",\"Lingala\",\"Kituba\",\"Kongo\",\"fon\",\"Fulani\",\"Kikongo\",\"Verdean\",\"Abron\",\"Afar\",\"Dangme\",\"Berber\",\"Khoekhoe\",\"Seychelles\",\"Comorian\",\"Sesotho\",\"Ndebele\",\"Sepedi\",\"Setswana\",\"Tswana\",\"Sindebele\",\"Tigrinya\",\"Swati\",\"Swahili\",\"Tsonga\",\"Venda\",\"Soranî\",\"Mimi\",\"Ga\",\"Yeni\",\"Shabo\",\"Weyto\",\"Wutana\",\"Mpra\",\"Oropom\",\"Ongota\",\"Oblo\",\"Bangi\",\"Meyobe\",\"Mawa\",\"Luo\",\"Kujarge\",\"Lufu\",\"Laal\",\"Lezgi\",\"Hadza\",\"Irimba\",\"Gumuz\",\"Gomba\",\"Bayot\",\"Ega\",\"Dompo\",\"Ingush\",\"Kabardian\",\"Tatar\",\"Esperanto\",\"Chechen\",\"Chuvash\",\"Dargwa\",\"Bashkir\",\"Riksmål\",\"Latin\",\"Riksmal\",\"Galician\",\"Catalan\",\"Tamazight\",\"Sorani\",\"Slovene\",\"Afrikaans\",\"Armenian\",\"Slovak\",\"Danish\",\"Norwegian\",\"Icelandic\",\"Finnish\",\"Dhundhari\",\"Fuzhou\",\"Balochi\",\"Xhosa\",\"Belarusian\",\"Mossi\",\"Ilocano\",\"Shona\",\"Hiligaynon\",\"Ilonggo\",\"Hmong\",\"Swedish\",\"Quechua\",\"Kirundi\",\"Haitian\",\"Creole\",\"Zhuang\",\"Akan\",\"Chewa\",\"Haryanvi\",\"Marwari\",\"Madurese\",\"Turkmen\",\"Serbo\",\"Sinhala\",\"Malagasy\",\"Croatian\",\"Fula\",\"Gan\",\"Visayan\",\"Awadhi\",\"Oromo\",\"Sundanese\",\"Teochew\",\"Min\",\"Cantonese\",\"Hokkien\",\"Shanghainese\",\"english\",\"Bodo\",\"Filipino\",\"Dogri\",\"Santhali\",\"Oriya\",\"Sanskrit\",\"hindi\",\"Manipuri\",\"Konkani\",\"Kashmiri\",\"hindustani\",\"bengali\",\"portuguese\",\"russian\",\"japanese\",\"western\",\"punjabi\",\"marathi\",\"Telugu\",\"Wu\",\"Turkish\",\"Korean\",\"French\",\"German\",\"Vietnamese\",\"Tamil\",\"Yue\",\"Urdu\",\"Javanese\",\"Italian\",\"Egyptian\",\"Arabic\",\"Gujarati\",\"Iranian\",\"Persian\",\"Bhojpuri\",\"Minnan\",\"nan\",\"banlam\",\"Hakka\",\"Jin\",\"Hausa\",\"Kannada\",\"Indonesian\",\"Malay\",\"Polish\",\"Yoruba\",\"Xiang\",\"Malayalam\",\"Odia\",\"Maithili\",\"Burmese\",\"Sunda\",\"Sudanese\",\"Algerian\",\"Moroccan\",\"Ukrainian\",\"Igbo\",\"Uzbek\",\"Sindhi\",\"Romanian\",\"Tagalog\",\"Dutch\",\"Amharic\",\"Putonghua\",\"Pashto\",\"Magahi\",\"Thai\",\"Saraiki\",\"Khmer\",\"Chhattisgarhi\",\"Somali\",\"Malaysian\",\"Malay\",\"Cebuano\",\"Nepali\",\"Mesopotamian\",\"Avar\",\"Assamese\",\"Sinhalese\",\"Kurdish\",\"Hejazi\",\"Nigerian\",\"Fulfulde\",\"Bavarian\",\"Azerbaijani\",\"Greek\",\"Chittagonian\",\"Kazakh\",\"Deccan\",\"Hungarian\",\"Kinyarwanda\",\"Zulu\",\"Levantine\",\"Tunisian\",\"Sanaani\",\"MinBei\",\"Bei\",\"Rundi\",\"Czech\",\"Taʽizzi-Adeni\",\"Uyghur\",\"MinDong\",\"Dong\",\"Sylheti\"]\n",
    "Lang = [word.lower() for word in Languages]\n",
    "for i in range(len(df[\"Abstract\"])): \n",
    "    res = re.sub(r'[^\\w\\s]', ' ', df[\"Abstract\"][i])\n",
    "    Abstract = res.lower().split() \n",
    "    Languages_Translation.append(list(set(Abstract) & set(Lang)))\n",
    "df[\"From --> Too\"] = Languages_Translation \n",
    "len(Lang)"
   ]
  },
  {
   "cell_type": "code",
   "execution_count": 15,
   "metadata": {},
   "outputs": [
    {
     "ename": "AttributeError",
     "evalue": "'Series' object has no attribute 'is_empty'",
     "output_type": "error",
     "traceback": [
      "\u001b[1;31m---------------------------------------------------------------------------\u001b[0m",
      "\u001b[1;31mAttributeError\u001b[0m                            Traceback (most recent call last)",
      "\u001b[1;32m<ipython-input-15-59a0d5fe1a86>\u001b[0m in \u001b[0;36m<module>\u001b[1;34m\u001b[0m\n\u001b[0;32m      1\u001b[0m \u001b[0mdf\u001b[0m\u001b[1;33m[\u001b[0m\u001b[1;34m\"From --> Too\"\u001b[0m\u001b[1;33m]\u001b[0m \u001b[1;33m=\u001b[0m \u001b[0mLanguages_Translation\u001b[0m\u001b[1;33m\u001b[0m\u001b[1;33m\u001b[0m\u001b[0m\n\u001b[1;32m----> 2\u001b[1;33m \u001b[0mdfof\u001b[0m \u001b[1;33m=\u001b[0m \u001b[0mdf\u001b[0m\u001b[1;33m[\u001b[0m\u001b[0mdf\u001b[0m\u001b[1;33m[\u001b[0m\u001b[1;34m\"From --> Too\"\u001b[0m\u001b[1;33m]\u001b[0m\u001b[1;33m.\u001b[0m\u001b[0mis_empty\u001b[0m\u001b[1;33m(\u001b[0m\u001b[1;33m)\u001b[0m\u001b[1;33m]\u001b[0m\u001b[1;33m\u001b[0m\u001b[1;33m\u001b[0m\u001b[0m\n\u001b[0m\u001b[0;32m      3\u001b[0m \u001b[0mdfof\u001b[0m\u001b[1;33m\u001b[0m\u001b[1;33m\u001b[0m\u001b[0m\n",
      "\u001b[1;32m~\\Anaconda3\\lib\\site-packages\\pandas\\core\\generic.py\u001b[0m in \u001b[0;36m__getattr__\u001b[1;34m(self, name)\u001b[0m\n\u001b[0;32m   5128\u001b[0m             \u001b[1;32mif\u001b[0m \u001b[0mself\u001b[0m\u001b[1;33m.\u001b[0m\u001b[0m_info_axis\u001b[0m\u001b[1;33m.\u001b[0m\u001b[0m_can_hold_identifiers_and_holds_name\u001b[0m\u001b[1;33m(\u001b[0m\u001b[0mname\u001b[0m\u001b[1;33m)\u001b[0m\u001b[1;33m:\u001b[0m\u001b[1;33m\u001b[0m\u001b[1;33m\u001b[0m\u001b[0m\n\u001b[0;32m   5129\u001b[0m                 \u001b[1;32mreturn\u001b[0m \u001b[0mself\u001b[0m\u001b[1;33m[\u001b[0m\u001b[0mname\u001b[0m\u001b[1;33m]\u001b[0m\u001b[1;33m\u001b[0m\u001b[1;33m\u001b[0m\u001b[0m\n\u001b[1;32m-> 5130\u001b[1;33m             \u001b[1;32mreturn\u001b[0m \u001b[0mobject\u001b[0m\u001b[1;33m.\u001b[0m\u001b[0m__getattribute__\u001b[0m\u001b[1;33m(\u001b[0m\u001b[0mself\u001b[0m\u001b[1;33m,\u001b[0m \u001b[0mname\u001b[0m\u001b[1;33m)\u001b[0m\u001b[1;33m\u001b[0m\u001b[1;33m\u001b[0m\u001b[0m\n\u001b[0m\u001b[0;32m   5131\u001b[0m \u001b[1;33m\u001b[0m\u001b[0m\n\u001b[0;32m   5132\u001b[0m     \u001b[1;32mdef\u001b[0m \u001b[0m__setattr__\u001b[0m\u001b[1;33m(\u001b[0m\u001b[0mself\u001b[0m\u001b[1;33m,\u001b[0m \u001b[0mname\u001b[0m\u001b[1;33m:\u001b[0m \u001b[0mstr\u001b[0m\u001b[1;33m,\u001b[0m \u001b[0mvalue\u001b[0m\u001b[1;33m)\u001b[0m \u001b[1;33m->\u001b[0m \u001b[1;32mNone\u001b[0m\u001b[1;33m:\u001b[0m\u001b[1;33m\u001b[0m\u001b[1;33m\u001b[0m\u001b[0m\n",
      "\u001b[1;31mAttributeError\u001b[0m: 'Series' object has no attribute 'is_empty'"
     ]
    }
   ],
   "source": [
    "df[\"From --> Too\"] = Languages_Translation \n",
    "dfof = df[df[\"From --> Too\"].is_empty()]\n",
    "dfof"
   ]
  },
  {
   "cell_type": "code",
   "execution_count": null,
   "metadata": {},
   "outputs": [],
   "source": []
  }
 ],
 "metadata": {
  "kernelspec": {
   "display_name": "Python 3",
   "language": "python",
   "name": "python3"
  },
  "language_info": {
   "codemirror_mode": {
    "name": "ipython",
    "version": 3
   },
   "file_extension": ".py",
   "mimetype": "text/x-python",
   "name": "python",
   "nbconvert_exporter": "python",
   "pygments_lexer": "ipython3",
   "version": "3.7.4"
  }
 },
 "nbformat": 4,
 "nbformat_minor": 4
}
