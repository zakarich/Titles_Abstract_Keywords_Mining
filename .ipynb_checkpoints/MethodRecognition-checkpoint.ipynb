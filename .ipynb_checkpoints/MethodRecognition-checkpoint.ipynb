{
 "cells": [
  {
   "cell_type": "code",
   "execution_count": null,
   "metadata": {},
   "outputs": [],
   "source": [
    "import os\n",
    "import shutil\n",
    "\n",
    "import re\n",
    "import time\n",
    "import pandas as pd\n",
    "\n",
    "\n",
    "csv_fileIEEE = pd.read_csv('Data-25May/MT-IEEE-vf.csv',header=0, engine='python', warn_bad_lines=True, error_bad_lines=False)\n",
    "csv_fileSCOPUS = pd.read_csv('Data-25May/MT-SCOPUS-vf.csv',header=0, engine='python', warn_bad_lines=True, error_bad_lines=False)\n",
    "csv_fileSPRINGER = pd.read_csv('Data-25May/MT-SPRINGER-vf.csv',header=0, engine='python', warn_bad_lines=True, error_bad_lines=False)\n",
    "\n",
    "csv_fileIEEE"
   ]
  },
  {
   "cell_type": "code",
   "execution_count": null,
   "metadata": {},
   "outputs": [],
   "source": [
    "#Replace Abbreviation\n",
    "def replace_Abbreviation(text):\n",
    "    text.replace('smt', 'statistical')\n",
    "    text.replace('nmt', 'neural')\n",
    "    text.replace('rbmt','rule based')\n",
    "    text.replace('hmt','hybrid')\n",
    "    text.replace('dmt','direct')\n",
    "    return text\n",
    "\n",
    "\n",
    "#Languages_Translation = []\n",
    "#Languages = [\"mandarin\",\"chinese\",\"spanish\",\"Jalaa\",\"Maori\",\"Ryukyuan\",\"Maroon\",\"Mayan\",\"Sranan\",\"Nahuatl\",\"mam\",\"Patois\",\"Xinca\",\"Quiche\",\"Kekchi\",\"Cakchiquel\",\"Nahua\",\"Carib\",\"Amerindian\",\"Garifuna\",\"Mesrop\",\"Khenkha\",\"Tshanglakha\",\"Lhotsamkha\",\"Nepalese\",\"Waray\",\"Pampango\",\"Pangasinense\",\"Bicol\",\"Aramaic\",\"Circassian\",\"Tajik\",\"Baluchi\",\"Khalkha\",\"mongol\",\"Dhivehi\",\"Maldivian\",\"Altaic\",\"Kyrgyz\",\"Bahasa\",\"Hangungmal\",\"Qazaq\",\"Turcoman\",\"Assyrian\",\"Yiddish\",\"Judeo\",\"Ladino\",\"Tuvaluan\",\"Kejia\",\"Tibetan\",\"Tibet\",\"Mongolian\",\"Bhutanese\",\"Darussalam\",\"Dzongkha\",\"Farsi\",\"Turkic\",\"Azeri\",\"Bislama\",\"Bichelama\",\"Ulithian\",\"Pitcairnese\",\"Pisin\",\"Motu\",\"Sonsoralese\",\"Angaur\",\"Carolinian\",\"Niuean\",\"Tongan\",\"Polynesian\",\"Melanesian\",\"Kapingamarangi\",\"Tahitian\",\"Nukuoro\",\"Woleaian\",\"Trukese\",\"Pohnpeian\",\"Kosrean\",\"Yapese\",\"Kiribati\",\"Chamorro\",\"Ibibio\",\"Fijian\",\"Welsh\",\"gaelic\",\"Samoan \",\"Nordic\",\"Monegasque\",\"Gagauz\",\"Lahnda\",\"Llanito \",\"Sami\",\"Castilian\",\"Zande\",\"Chadic\",\"Sena\",\"Volta\",\"twi\",\"Wolof\",\"Umbundu\",\"Tsoa\",\"Tshivenda\",\"Tshiluba\",\"Tshwa\",\"kua\",\"Tonga\",\"Swazi\",\"Seychellois\",\"Mauritian\",\"Noon\",\"Nambya\",\"Ndau\",\"Kimbundu\",\"Sotho\",\"Luganda\",\"Lingala\",\"Kituba\",\"Kongo\",\"fon\",\"Fulani\",\"Kikongo\",\"Verdean\",\"Abron\",\"Afar\",\"Dangme\",\"Berber\",\"Khoekhoe\",\"Seychelles\",\"Comorian\",\"Sesotho\",\"Ndebele\",\"Sepedi\",\"Setswana\",\"Tswana\",\"Sindebele\",\"Tigrinya\",\"Swati\",\"Swahili\",\"Tsonga\",\"Venda\",\"Soranî\",\"Mimi\",\"Ga\",\"Yeni\",\"Shabo\",\"Weyto\",\"Wutana\",\"Mpra\",\"Oropom\",\"Ongota\",\"Oblo\",\"Bangi\",\"Meyobe\",\"Mawa\",\"Luo\",\"Kujarge\",\"Lufu\",\"Laal\",\"Lezgi\",\"Hadza\",\"Irimba\",\"Gumuz\",\"Gomba\",\"Bayot\",\"Ega\",\"Dompo\",\"Ingush\",\"Kabardian\",\"Tatar\",\"Esperanto\",\"Chechen\",\"Chuvash\",\"Dargwa\",\"Bashkir\",\"Riksmål\",\"Latin\",\"Riksmal\",\"Galician\",\"Catalan\",\"Tamazight\",\"Sorani\",\"Slovene\",\"Afrikaans\",\"Armenian\",\"Slovak\",\"Danish\",\"Norwegian\",\"Icelandic\",\"Finnish\",\"Dhundhari\",\"Fuzhou\",\"Balochi\",\"Xhosa\",\"Belarusian\",\"Mossi\",\"Ilocano\",\"Shona\",\"Hiligaynon\",\"Ilonggo\",\"Hmong\",\"Swedish\",\"Quechua\",\"Kirundi\",\"Haitian\",\"Creole\",\"Zhuang\",\"Akan\",\"Chewa\",\"Haryanvi\",\"Marwari\",\"Madurese\",\"Turkmen\",\"Serbo\",\"Sinhala\",\"Malagasy\",\"Croatian\",\"Fula\",\"Gan\",\"Visayan\",\"Awadhi\",\"Oromo\",\"Sundanese\",\"Teochew\",\"Min\",\"Cantonese\",\"Hokkien\",\"Shanghainese\",\"english\",\"Bodo\",\"Filipino\",\"Dogri\",\"Santhali\",\"Oriya\",\"Sanskrit\",\"hindi\",\"Manipuri\",\"Konkani\",\"Kashmiri\",\"hindustani\",\"bengali\",\"portuguese\",\"russian\",\"japanese\",\"western\",\"punjabi\",\"marathi\",\"Telugu\",\"Wu\",\"Turkish\",\"Korean\",\"French\",\"German\",\"Vietnamese\",\"Tamil\",\"Yue\",\"Urdu\",\"Javanese\",\"Italian\",\"Egyptian\",\"Arabic\",\"Gujarati\",\"Iranian\",\"Persian\",\"Bhojpuri\",\"Minnan\",\"nan\",\"banlam\",\"Hakka\",\"Jin\",\"Hausa\",\"Kannada\",\"Indonesian\",\"Malay\",\"Polish\",\"Yoruba\",\"Xiang\",\"Malayalam\",\"Odia\",\"Maithili\",\"Burmese\",\"Sunda\",\"Sudanese\",\"Algerian\",\"Moroccan\",\"Ukrainian\",\"Igbo\",\"Uzbek\",\"Sindhi\",\"Romanian\",\"Tagalog\",\"Dutch\",\"Amharic\",\"Putonghua\",\"Pashto\",\"Magahi\",\"Thai\",\"Saraiki\",\"Khmer\",\"Chhattisgarhi\",\"Somali\",\"Malaysian\",\"Malay\",\"Cebuano\",\"Nepali\",\"Mesopotamian\",\"Avar\",\"Assamese\",\"Sinhalese\",\"Kurdish\",\"Hejazi\",\"Nigerian\",\"Fulfulde\",\"Bavarian\",\"Azerbaijani\",\"Greek\",\"Chittagonian\",\"Kazakh\",\"Deccan\",\"Hungarian\",\"Kinyarwanda\",\"Zulu\",\"Levantine\",\"Tunisian\",\"Sanaani\",\"MinBei\",\"Bei\",\"Rundi\",\"Czech\",\"Taʽizzi-Adeni\",\"Uyghur\",\"MinDong\",\"Dong\",\"Sylheti\"]\n",
    "Methods = ['neural','statistical','hybrid','rule based','direct','transfer based','interlingual','corpus based','example based','']\n",
    "#Lang = [word.lower() for word in Languages]\n",
    "# Recognition for IEEE\n",
    "for i in range(len(csv_fileIEEE[\"Document Title\"])): \n",
    "    #res = re.sub(r'[^\\w\\s]', ' ', df.astype(str)[\"Document Title\"][i]+df.astype(str)[\"Abstract\"][i]+df.astype(str)[\"Author Keywords\"][i])\n",
    "    res = re.sub(r'[^\\w\\s]', ' ', str(csv_fileIEEE[\"Document Title\"][i]))\n",
    "    Title = res.lower().split() \n",
    "    Method_Found.append(list(set(Title) & set(Methods)))\n",
    "csv_fileIEEE[\"Method\"] = Method_Found \n",
    "print(\"The number of methods that the program can recognize :\"+str(len(Methods)))\n",
    "csv_fileIEEE"
   ]
  },
  {
   "cell_type": "code",
   "execution_count": null,
   "metadata": {},
   "outputs": [],
   "source": []
  }
 ],
 "metadata": {
  "kernelspec": {
   "display_name": "Python 3",
   "language": "python",
   "name": "python3"
  },
  "language_info": {
   "codemirror_mode": {
    "name": "ipython",
    "version": 3
   },
   "file_extension": ".py",
   "mimetype": "text/x-python",
   "name": "python",
   "nbconvert_exporter": "python",
   "pygments_lexer": "ipython3",
   "version": "3.8.5"
  }
 },
 "nbformat": 4,
 "nbformat_minor": 4
}
